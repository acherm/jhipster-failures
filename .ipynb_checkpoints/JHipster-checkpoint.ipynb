{
 "cells": [
  {
   "cell_type": "code",
   "execution_count": 1,
   "metadata": {},
   "outputs": [],
   "source": [
    "import pandas as pd\n",
    "from sklearn.preprocessing import LabelEncoder\n",
    "from sklearn.model_selection import train_test_split\n",
    "from sklearn.ensemble import RandomForestClassifier\n",
    "from sklearn.tree import DecisionTreeClassifier, plot_tree, export_graphviz\n",
    "from sklearn.metrics import accuracy_score"
   ]
  },
  {
   "cell_type": "code",
   "execution_count": 2,
   "metadata": {},
   "outputs": [],
   "source": [
    "# df = pd.read_csv('JHipster-gp.csv') # jhipster3.6.1-testresults.csv\n",
    "df = pd.read_csv('jhipster3.6.1-testresults.csv')\n",
    "NB_CONFIGURATIONS_JH = len(df)"
   ]
  },
  {
   "cell_type": "code",
   "execution_count": 3,
   "metadata": {},
   "outputs": [
    {
     "data": {
      "text/plain": [
       "0.3570993296770262"
      ]
     },
     "execution_count": 3,
     "metadata": {},
     "output_type": "execute_result"
    }
   ],
   "source": [
    "len(df.query(\"Build == 'KO' | Compile == 'KO'\")) / NB_CONFIGURATIONS_JH"
   ]
  },
  {
   "cell_type": "code",
   "execution_count": 4,
   "metadata": {},
   "outputs": [
    {
     "data": {
      "text/html": [
       "<div>\n",
       "<style scoped>\n",
       "    .dataframe tbody tr th:only-of-type {\n",
       "        vertical-align: middle;\n",
       "    }\n",
       "\n",
       "    .dataframe tbody tr th {\n",
       "        vertical-align: top;\n",
       "    }\n",
       "\n",
       "    .dataframe thead th {\n",
       "        text-align: right;\n",
       "    }\n",
       "</style>\n",
       "<table border=\"1\" class=\"dataframe\">\n",
       "  <thead>\n",
       "    <tr style=\"text-align: right;\">\n",
       "      <th></th>\n",
       "      <th>JHipsterRegister</th>\n",
       "      <th>Docker</th>\n",
       "      <th>applicationType</th>\n",
       "      <th>authenticationType</th>\n",
       "      <th>hibernateCache</th>\n",
       "      <th>clusteredHttpSession</th>\n",
       "      <th>websocket</th>\n",
       "      <th>databaseType</th>\n",
       "      <th>devDatabaseType</th>\n",
       "      <th>prodDatabaseType</th>\n",
       "      <th>...</th>\n",
       "      <th>enableSocialSignIn</th>\n",
       "      <th>useSass</th>\n",
       "      <th>enableTranslation</th>\n",
       "      <th>testFrameworks</th>\n",
       "      <th>Generate</th>\n",
       "      <th>Log-Generate</th>\n",
       "      <th>Compile</th>\n",
       "      <th>Log-Compile</th>\n",
       "      <th>Build</th>\n",
       "      <th>Log-Build</th>\n",
       "    </tr>\n",
       "  </thead>\n",
       "  <tbody>\n",
       "    <tr>\n",
       "      <th>0</th>\n",
       "      <td>jhipster1</td>\n",
       "      <td>True</td>\n",
       "      <td>\"monolith\"</td>\n",
       "      <td>\"session\"</td>\n",
       "      <td>\"no\"</td>\n",
       "      <td>\"hazelcast\"</td>\n",
       "      <td>\"spring-websocket\"</td>\n",
       "      <td>\"sql\"</td>\n",
       "      <td>\"DiskBased\"</td>\n",
       "      <td>\"mariadb\"</td>\n",
       "      <td>...</td>\n",
       "      <td>false</td>\n",
       "      <td>false</td>\n",
       "      <td>False</td>\n",
       "      <td>[\"cucumber\",\"protractor\",\"gatling\"]</td>\n",
       "      <td>OK</td>\n",
       "      <td>Exception.java\\n\\nExceptionHandlingAsyncTaskEx...</td>\n",
       "      <td>OK</td>\n",
       "      <td>NaN</td>\n",
       "      <td>KO</td>\n",
       "      <td>Exception encountered during context initializ...</td>\n",
       "    </tr>\n",
       "    <tr>\n",
       "      <th>1</th>\n",
       "      <td>jhipster1</td>\n",
       "      <td>False</td>\n",
       "      <td>\"monolith\"</td>\n",
       "      <td>\"session\"</td>\n",
       "      <td>\"no\"</td>\n",
       "      <td>\"hazelcast\"</td>\n",
       "      <td>\"spring-websocket\"</td>\n",
       "      <td>\"sql\"</td>\n",
       "      <td>\"DiskBased\"</td>\n",
       "      <td>\"mariadb\"</td>\n",
       "      <td>...</td>\n",
       "      <td>false</td>\n",
       "      <td>false</td>\n",
       "      <td>False</td>\n",
       "      <td>[\"cucumber\",\"protractor\",\"gatling\"]</td>\n",
       "      <td>OK</td>\n",
       "      <td>Exception.java\\n\\nExceptionHandlingAsyncTaskEx...</td>\n",
       "      <td>OK</td>\n",
       "      <td>NaN</td>\n",
       "      <td>KO</td>\n",
       "      <td>Exception encountered during context initializ...</td>\n",
       "    </tr>\n",
       "    <tr>\n",
       "      <th>2</th>\n",
       "      <td>jhipster2</td>\n",
       "      <td>True</td>\n",
       "      <td>\"monolith\"</td>\n",
       "      <td>\"jwt\"</td>\n",
       "      <td>\"no\"</td>\n",
       "      <td>\"no\"</td>\n",
       "      <td>\"spring-websocket\"</td>\n",
       "      <td>\"mongodb\"</td>\n",
       "      <td>\"mongodb\"</td>\n",
       "      <td>\"mongodb\"</td>\n",
       "      <td>...</td>\n",
       "      <td>false</td>\n",
       "      <td>false</td>\n",
       "      <td>True</td>\n",
       "      <td>[\"gatling\",\"cucumber\",\"protractor\"]</td>\n",
       "      <td>OK</td>\n",
       "      <td>Exception.java\\n\\nExceptionHandlingAsyncTaskEx...</td>\n",
       "      <td>OK</td>\n",
       "      <td>NaN</td>\n",
       "      <td>OK</td>\n",
       "      <td>ND</td>\n",
       "    </tr>\n",
       "    <tr>\n",
       "      <th>3</th>\n",
       "      <td>jhipster2</td>\n",
       "      <td>False</td>\n",
       "      <td>\"monolith\"</td>\n",
       "      <td>\"jwt\"</td>\n",
       "      <td>\"no\"</td>\n",
       "      <td>\"no\"</td>\n",
       "      <td>\"spring-websocket\"</td>\n",
       "      <td>\"mongodb\"</td>\n",
       "      <td>\"mongodb\"</td>\n",
       "      <td>\"mongodb\"</td>\n",
       "      <td>...</td>\n",
       "      <td>false</td>\n",
       "      <td>false</td>\n",
       "      <td>True</td>\n",
       "      <td>[\"gatling\",\"cucumber\",\"protractor\"]</td>\n",
       "      <td>OK</td>\n",
       "      <td>Exception.java\\n\\nExceptionHandlingAsyncTaskEx...</td>\n",
       "      <td>OK</td>\n",
       "      <td>NaN</td>\n",
       "      <td>OK</td>\n",
       "      <td>ND</td>\n",
       "    </tr>\n",
       "    <tr>\n",
       "      <th>4</th>\n",
       "      <td>jhipster3</td>\n",
       "      <td>True</td>\n",
       "      <td>\"monolith\"</td>\n",
       "      <td>\"jwt\"</td>\n",
       "      <td>\"no\"</td>\n",
       "      <td>\"hazelcast\"</td>\n",
       "      <td>\"spring-websocket\"</td>\n",
       "      <td>\"sql\"</td>\n",
       "      <td>\"DiskBased\"</td>\n",
       "      <td>\"mysql\"</td>\n",
       "      <td>...</td>\n",
       "      <td>false</td>\n",
       "      <td>true</td>\n",
       "      <td>True</td>\n",
       "      <td>[\"cucumber\",\"gatling\",\"protractor\"]</td>\n",
       "      <td>OK</td>\n",
       "      <td>Exception.java\\n\\nExceptionHandlingAsyncTaskEx...</td>\n",
       "      <td>OK</td>\n",
       "      <td>NaN</td>\n",
       "      <td>OK</td>\n",
       "      <td>ND</td>\n",
       "    </tr>\n",
       "  </tbody>\n",
       "</table>\n",
       "<p>5 rows × 22 columns</p>\n",
       "</div>"
      ],
      "text/plain": [
       "  JHipsterRegister  Docker applicationType authenticationType hibernateCache  \\\n",
       "0        jhipster1    True      \"monolith\"          \"session\"           \"no\"   \n",
       "1        jhipster1   False      \"monolith\"          \"session\"           \"no\"   \n",
       "2        jhipster2    True      \"monolith\"              \"jwt\"           \"no\"   \n",
       "3        jhipster2   False      \"monolith\"              \"jwt\"           \"no\"   \n",
       "4        jhipster3    True      \"monolith\"              \"jwt\"           \"no\"   \n",
       "\n",
       "  clusteredHttpSession           websocket databaseType devDatabaseType  \\\n",
       "0          \"hazelcast\"  \"spring-websocket\"        \"sql\"     \"DiskBased\"   \n",
       "1          \"hazelcast\"  \"spring-websocket\"        \"sql\"     \"DiskBased\"   \n",
       "2                 \"no\"  \"spring-websocket\"    \"mongodb\"       \"mongodb\"   \n",
       "3                 \"no\"  \"spring-websocket\"    \"mongodb\"       \"mongodb\"   \n",
       "4          \"hazelcast\"  \"spring-websocket\"        \"sql\"     \"DiskBased\"   \n",
       "\n",
       "  prodDatabaseType  ... enableSocialSignIn useSass enableTranslation  \\\n",
       "0        \"mariadb\"  ...              false   false             False   \n",
       "1        \"mariadb\"  ...              false   false             False   \n",
       "2        \"mongodb\"  ...              false   false              True   \n",
       "3        \"mongodb\"  ...              false   false              True   \n",
       "4          \"mysql\"  ...              false    true              True   \n",
       "\n",
       "                        testFrameworks  Generate  \\\n",
       "0  [\"cucumber\",\"protractor\",\"gatling\"]        OK   \n",
       "1  [\"cucumber\",\"protractor\",\"gatling\"]        OK   \n",
       "2  [\"gatling\",\"cucumber\",\"protractor\"]        OK   \n",
       "3  [\"gatling\",\"cucumber\",\"protractor\"]        OK   \n",
       "4  [\"cucumber\",\"gatling\",\"protractor\"]        OK   \n",
       "\n",
       "                                        Log-Generate Compile Log-Compile  \\\n",
       "0  Exception.java\\n\\nExceptionHandlingAsyncTaskEx...      OK         NaN   \n",
       "1  Exception.java\\n\\nExceptionHandlingAsyncTaskEx...      OK         NaN   \n",
       "2  Exception.java\\n\\nExceptionHandlingAsyncTaskEx...      OK         NaN   \n",
       "3  Exception.java\\n\\nExceptionHandlingAsyncTaskEx...      OK         NaN   \n",
       "4  Exception.java\\n\\nExceptionHandlingAsyncTaskEx...      OK         NaN   \n",
       "\n",
       "  Build                                          Log-Build  \n",
       "0    KO  Exception encountered during context initializ...  \n",
       "1    KO  Exception encountered during context initializ...  \n",
       "2    OK                                                 ND  \n",
       "3    OK                                                 ND  \n",
       "4    OK                                                 ND  \n",
       "\n",
       "[5 rows x 22 columns]"
      ]
     },
     "execution_count": 4,
     "metadata": {},
     "output_type": "execute_result"
    }
   ],
   "source": [
    "df.head()"
   ]
  },
  {
   "cell_type": "code",
   "execution_count": 5,
   "metadata": {},
   "outputs": [
    {
     "data": {
      "text/plain": [
       "(array(['KO', 'OK'], dtype=object), array(['OK', 'KO'], dtype=object))"
      ]
     },
     "execution_count": 5,
     "metadata": {},
     "output_type": "execute_result"
    }
   ],
   "source": [
    "df['Build'].unique(), df['Compile'].unique()"
   ]
  },
  {
   "cell_type": "code",
   "execution_count": 6,
   "metadata": {},
   "outputs": [
    {
     "data": {
      "text/plain": [
       "array(['\"elasticsearch\"', '\"no\"'], dtype=object)"
      ]
     },
     "execution_count": 6,
     "metadata": {},
     "output_type": "execute_result"
    }
   ],
   "source": [
    "df['searchEngine'].unique()"
   ]
  },
  {
   "cell_type": "code",
   "execution_count": 7,
   "metadata": {},
   "outputs": [
    {
     "data": {
      "text/plain": [
       "(array(['\"monolith\"', '\"gateway\"', '\"microservice\"', '\"uaa\"'], dtype=object),\n",
       " array(['\"sql\"', '\"mongodb\"', '\"cassandra\"', '\"no\"'], dtype=object),\n",
       " array(['\"mariadb\"', '\"mongodb\"', '\"mysql\"', '\"postgresql\"', '\"cassandra\"',\n",
       "        '\"no\"'], dtype=object))"
      ]
     },
     "execution_count": 7,
     "metadata": {},
     "output_type": "execute_result"
    }
   ],
   "source": [
    "df['applicationType'].unique(), df['databaseType'].unique(), df['prodDatabaseType'].unique()"
   ]
  },
  {
   "cell_type": "code",
   "execution_count": 8,
   "metadata": {},
   "outputs": [
    {
     "ename": "AssertionError",
     "evalue": "",
     "output_type": "error",
     "traceback": [
      "\u001b[0;31m---------------------------------------------------------------------------\u001b[0m",
      "\u001b[0;31mAssertionError\u001b[0m                            Traceback (most recent call last)",
      "\u001b[0;32m<ipython-input-8-6aa6a5768dd1>\u001b[0m in \u001b[0;36m<module>\u001b[0;34m\u001b[0m\n\u001b[1;32m    151\u001b[0m \u001b[0;34m\u001b[0m\u001b[0m\n\u001b[1;32m    152\u001b[0m \u001b[0;31m# print(round((len(filter_with_configbugs(mariadb_cfgbug, df)) / NB_CONFIGURATIONS_JH) * 100, 2))\u001b[0m\u001b[0;34m\u001b[0m\u001b[0;34m\u001b[0m\u001b[0;34m\u001b[0m\u001b[0m\n\u001b[0;32m--> 153\u001b[0;31m \u001b[0;32massert\u001b[0m\u001b[0;34m(\u001b[0m\u001b[0mround\u001b[0m\u001b[0;34m(\u001b[0m\u001b[0;34m(\u001b[0m\u001b[0mlen\u001b[0m\u001b[0;34m(\u001b[0m\u001b[0mfilter_with_configbugs\u001b[0m\u001b[0;34m(\u001b[0m\u001b[0mmariadb_cfgbug\u001b[0m\u001b[0;34m,\u001b[0m \u001b[0mdf\u001b[0m\u001b[0;34m)\u001b[0m\u001b[0;34m)\u001b[0m \u001b[0;34m/\u001b[0m \u001b[0mNB_CONFIGURATIONS_JH\u001b[0m\u001b[0;34m)\u001b[0m \u001b[0;34m*\u001b[0m \u001b[0;36m100\u001b[0m\u001b[0;34m,\u001b[0m \u001b[0;36m2\u001b[0m\u001b[0;34m)\u001b[0m \u001b[0;34m==\u001b[0m \u001b[0;36m16.18\u001b[0m\u001b[0;34m)\u001b[0m\u001b[0;34m\u001b[0m\u001b[0;34m\u001b[0m\u001b[0m\n\u001b[0m\u001b[1;32m    154\u001b[0m \u001b[0;32massert\u001b[0m\u001b[0;34m(\u001b[0m\u001b[0mround\u001b[0m\u001b[0;34m(\u001b[0m\u001b[0;34m(\u001b[0m\u001b[0mlen\u001b[0m\u001b[0;34m(\u001b[0m\u001b[0mfilter_with_configbugs\u001b[0m\u001b[0;34m(\u001b[0m\u001b[0mmoso_cfgbug\u001b[0m\u001b[0;34m,\u001b[0m \u001b[0mdf\u001b[0m\u001b[0;34m)\u001b[0m\u001b[0;34m)\u001b[0m  \u001b[0;34m/\u001b[0m \u001b[0mNB_CONFIGURATIONS_JH\u001b[0m\u001b[0;34m)\u001b[0m \u001b[0;34m*\u001b[0m \u001b[0;36m100\u001b[0m\u001b[0;34m,\u001b[0m \u001b[0;36m2\u001b[0m\u001b[0;34m)\u001b[0m \u001b[0;34m==\u001b[0m \u001b[0;36m0.49\u001b[0m\u001b[0;34m)\u001b[0m\u001b[0;34m\u001b[0m\u001b[0;34m\u001b[0m\u001b[0m\n\u001b[1;32m    155\u001b[0m \u001b[0;34m\u001b[0m\u001b[0m\n",
      "\u001b[0;31mAssertionError\u001b[0m: "
     ]
    }
   ],
   "source": [
    "# MAGR\n",
    "#mariadb_cfgbug = {\n",
    "#    'prodDatabaseType' : '\"mariadb\"', \n",
    "#    'buildTool' : '\"gradle\"',\n",
    "#    'Build' : 'KO'\n",
    "# }\n",
    "\n",
    "mariadb_cfgbug = {\n",
    "    'prodDatabaseType' : 'mariadb', \n",
    "    'buildTool' : 'gradle',\n",
    "    'Build' : 'KO'\n",
    "}\n",
    "\n",
    "# mariadb2_cfgbug = {\n",
    "#    'devDatabaseType' : '\"mariadb\"', \n",
    "#    'buildTool' : '\"gradle\"',\n",
    "#    'Build' : 'KO'\n",
    "# }\n",
    "\n",
    "# moso_cfgbug = {\n",
    "#    'prodDatabaseType' : '\"mongodb\"', \n",
    "#    'enableSocialSignIn' : 'true',\n",
    "   # 'Compile' : 'KO'\n",
    "# }\n",
    "\n",
    "moso_cfgbug = {\n",
    "    'prodDatabaseType' : 'mongodb', \n",
    "    'enableSocialSignIn' : True,\n",
    "   # 'Compile' : 'KO'\n",
    "}\n",
    "\n",
    "\n",
    "#uaa_cfgbug = {\n",
    "#    \"Docker\" : True,\n",
    "#    \"authenticationType\" : '\"uaa\"',\n",
    "#    'applicationType': '\"microservice\"',\n",
    "#    'Build' : 'KO'\n",
    "# }\n",
    "\n",
    "# uaa2_cfgbug = {\n",
    "#   \"Docker\" : False,\n",
    "#    \"authenticationType\" : '\"uaa\"',\n",
    "#    'applicationType': '\"microservice\"',\n",
    "#    'Build' : 'KO'\n",
    "# }\n",
    "\n",
    "# UADO \n",
    "# uaagateway_cfgbug = {\n",
    "#    \"Docker\" : True,\n",
    "#    \"authenticationType\" : '\"uaa\"',\n",
    "#    'applicationType': '\"gateway\"',\n",
    "#    'Build' : 'KO'\n",
    "# }\n",
    "\n",
    "uaagateway_cfgbug = {\n",
    "    \"Docker\" : True,\n",
    "    \"authenticationType\" : 'uaa',\n",
    "    'applicationType': 'gateway',\n",
    "    'Build' : 'KO'\n",
    "}\n",
    "\n",
    "# uaagateway2_cfgbug = {\n",
    "#    \"Docker\" : False,\n",
    "#    \"authenticationType\" : '\"uaa\"',\n",
    "#    'applicationType': '\"gateway\"',\n",
    "#    'Build' : 'KO'\n",
    "# }\n",
    "\n",
    "# supposed to be OASQL \n",
    "# hibernate_cfgbug = {\n",
    "#    \"hibernateCache\" : '\"no\"',\n",
    "#    \"authenticationType\" : '\"uaa\"',\n",
    "   # \"Docker\" : False,\n",
    "#    'Build' : 'KO'\n",
    "# }\n",
    "\n",
    "hibernate_cfgbug = {\n",
    "    \"hibernateCache\" : 'no',\n",
    "    \"authenticationType\" : 'uaa',\n",
    "   # \"Docker\" : False,\n",
    "    'Build' : 'KO'\n",
    "}\n",
    "\n",
    "#uaaeh_cfgbug = {\n",
    "#    \"hibernateCache\" : '\"ehcache\"',\n",
    "#    \"authenticationType\" : '\"uaa\"',\n",
    "    # two additional conditions, not documented in the table\n",
    "#    \"Docker\" : True,\n",
    "#    'applicationType': '\"gateway\"',\n",
    "#    'Build' : 'KO'\n",
    "#}\n",
    "\n",
    "uaaeh_cfgbug = {\n",
    "    \"hibernateCache\" : 'ehcache',\n",
    "    \"authenticationType\" : 'uaa',\n",
    "    # two additional conditions, not documented in the table\n",
    "    \"Docker\" : True,\n",
    "    'applicationType': 'gateway',\n",
    "    'Build' : 'KO'\n",
    "}\n",
    "\n",
    "#mado_cfgbug = {\n",
    "#    'prodDatabaseType' : '\"mariadb\"', \n",
    "#    'applicationType' : '\"monolith\"', \n",
    "#    'searchEngine' : '\"no\"', \n",
    "#    \"Docker\" : True, \n",
    "#    'Build' : 'KO'\n",
    "# }\n",
    "\n",
    "mado_cfgbug = {\n",
    "    'prodDatabaseType' : 'mariadb', \n",
    "    'applicationType' : 'monolith', \n",
    "    'searchEngine' : 'no', \n",
    "    \"Docker\" : True, \n",
    "    'Build' : 'KO'\n",
    "}\n",
    "\n",
    "# https://github.com/jhipster/generator-jhipster/issues/4009\n",
    "# to refine\n",
    "# OAuth2 authentication with SQL database This defect is faced 649 times, when trying\n",
    "# to deploy a web-app, using an SQL database ( MySQL , PostgreSQL or MariaDB ) and an\n",
    "# OAuth2 authentication, with Docker . It was reported on August 20th, 2016 but the JHipster\n",
    "# team was unable to reproduce it on their end.\n",
    "#oauth2_cfgbug = {\n",
    "#    \"authenticationType\" : '\"oauth2\"', \n",
    "#    \"Docker\" : True, \n",
    "#    \"databaseType\": '\"sql\"',\n",
    "#    'Build' : 'KO'\n",
    "# }\n",
    "\n",
    "oauth2_cfgbug = {\n",
    "    \"authenticationType\" : 'oauth2', \n",
    "    \"Docker\" : True, \n",
    "    \"databaseType\": 'sql',\n",
    "    'Build' : 'KO'\n",
    "}\n",
    "\n",
    "# oauth2_cfgbug, \n",
    "# uaa_cfgbug, uaa2_cfgbug, \n",
    "# mariadb2_cfgbug, \n",
    "# uaagateway2_cfgbug, \n",
    "jh_major_bugs = [oauth2_cfgbug, mariadb_cfgbug,  moso_cfgbug, uaagateway_cfgbug, hibernate_cfgbug, uaaeh_cfgbug, mado_cfgbug]\n",
    "\n",
    "\n",
    "def filter_with_configbugs(cf_values, cdata):\n",
    "    dff = cdata\n",
    "    for col, val in cf_values.items():\n",
    "        dff = dff[dff[col] == val]\n",
    "    return dff\n",
    "\n",
    "\n",
    "# print(round((len(filter_with_configbugs(mariadb_cfgbug, df)) / NB_CONFIGURATIONS_JH) * 100, 2))\n",
    "assert(round((len(filter_with_configbugs(mariadb_cfgbug, df)) / NB_CONFIGURATIONS_JH) * 100, 2) == 16.18) \n",
    "assert(round((len(filter_with_configbugs(moso_cfgbug, df))  / NB_CONFIGURATIONS_JH) * 100, 2) == 0.49) \n",
    "\n",
    "# UADO in the table\n",
    "assert(round((len(filter_with_configbugs(uaagateway_cfgbug, df)) / NB_CONFIGURATIONS_JH) * 100, 2) == 6.83) \n",
    "\n",
    "# print(round((len(filter_with_configbugs(uaa_cfgbug, df)) / NB_CONFIGURATIONS_JH) * 100, 2)) \n",
    "# print(round((len(filter_with_configbugs(uaa2_cfgbug, df)) / NB_CONFIGURATIONS_JH) * 100, 2)) \n",
    "\n",
    "print(\"supposed to be OASQL in the table... but support differs (should be 2.438)\", round((len(filter_with_configbugs(hibernate_cfgbug, df)) / NB_CONFIGURATIONS_JH) * 100, 2)) #  == 2.44\n",
    "print(\"supposed to be UAAEH in the table... but support differs (should be 2.194)\", round((len(filter_with_configbugs(uaaeh_cfgbug, df))  / NB_CONFIGURATIONS_JH) * 100, 2)) \n",
    "print(\"MADO (5.59 in reality)\", round((len(filter_with_configbugs(mado_cfgbug, df))  / NB_CONFIGURATIONS_JH) * 100, 2)) # should be 5.59\n",
    "\n",
    "# not documented in the table, but in the... text! (OAUTH2+SQL)\n",
    "print(\"OAUTH2+SQL (as documented in the text, not in the table)\", round((len(filter_with_configbugs(oauth2_cfgbug, df))  / NB_CONFIGURATIONS_JH) * 100, 2)) \n",
    "\n",
    "# print(len(filter_with_configbugs(oauth2_cfgbug, df)))\n",
    "# print(len(filter_with_configbugs(uaa2_cfgbug, df)))\n",
    "\n",
    "# print(len(filter_with_configbugs(mariadb2_cfgbug, df)))\n",
    "\n",
    "# 0.488+16.179+6.825+2.438+2.194+5.590\n",
    "\n",
    "# filter_with_configbugs(mado_cfgbug, df)\n",
    "\n",
    "# df[(df['prodDatabaseType'] == '\"mariadb\"') & (df['buildTool'] == '\"gradle\"')] \n",
    "# filter_with_configbugs(moso_cfgbug, df)"
   ]
  },
  {
   "cell_type": "code",
   "execution_count": 9,
   "metadata": {},
   "outputs": [
    {
     "data": {
      "text/plain": [
       "[{'authenticationType': 'oauth2',\n",
       "  'Docker': True,\n",
       "  'databaseType': 'sql',\n",
       "  'Build': 'KO'},\n",
       " {'prodDatabaseType': 'mariadb', 'buildTool': 'gradle', 'Build': 'KO'},\n",
       " {'prodDatabaseType': 'mongodb', 'enableSocialSignIn': True},\n",
       " {'Docker': True,\n",
       "  'authenticationType': 'uaa',\n",
       "  'applicationType': 'gateway',\n",
       "  'Build': 'KO'},\n",
       " {'hibernateCache': 'no', 'authenticationType': 'uaa', 'Build': 'KO'},\n",
       " {'hibernateCache': 'ehcache',\n",
       "  'authenticationType': 'uaa',\n",
       "  'Docker': True,\n",
       "  'applicationType': 'gateway',\n",
       "  'Build': 'KO'},\n",
       " {'prodDatabaseType': 'mariadb',\n",
       "  'applicationType': 'monolith',\n",
       "  'searchEngine': 'no',\n",
       "  'Docker': True,\n",
       "  'Build': 'KO'}]"
      ]
     },
     "execution_count": 9,
     "metadata": {},
     "output_type": "execute_result"
    }
   ],
   "source": [
    "jh_major_bugs"
   ]
  },
  {
   "cell_type": "code",
   "execution_count": 10,
   "metadata": {},
   "outputs": [
    {
     "data": {
      "text/plain": [
       "0.054844606946983544"
      ]
     },
     "execution_count": 10,
     "metadata": {},
     "output_type": "execute_result"
    }
   ],
   "source": [
    "1440 / NB_CONFIGURATIONS_JH"
   ]
  },
  {
   "cell_type": "code",
   "execution_count": 11,
   "metadata": {},
   "outputs": [],
   "source": [
    "failure_patterns = {\n",
    "    # cluster_based with manual \n",
    "    \"MARIADB_GRADLE_LIQUIDBASE\" : \"Error creating bean with name 'liquibase' defined in class path resource [io/variability/jhipster/config/DatabaseConfiguration.class\",\n",
    "    \"MARIADB_DOCKER\" : 'Error parsing reference: \"jhipster - jhipster-mariadb\" is not a valid repository', # 1433 (Mariadb + Docker)\n",
    "    \"REGISTRY\": 'Error parsing reference: \"jhipster - jhipster-mariadb:mariadb - jhipster-registry\" is not a valid repository/tag', # slightly different variation of the previous log\n",
    "    # certainly same as here: \"UAA_DOCKER\": \"No instances available for uaa\",\n",
    "    \"UAA\" : \"Error creating bean with name 'jwtAccessTokenConverter' defined in class path resource [io/variability/jhipster/config/MicroserviceSecurityConfiguration.class\", # 3311 (most probably issues with UAA)\n",
    "    \"OAUTH2\" : \" Error creating bean with name 'userService': Unsatisfied dependency expressed through field 'jdbcTokenStore': No qualifying bean of type [org.springframework.security.oauth2.provider.token.store.JdbcTokenStore]\", # most probably: https://github.com/jhipster/generator-jhipster/issues/4009 \n",
    "    \"NETWORK_ISSUE\" : \"Failed to initialize pool: Could not connect to address=\", \n",
    "    # manual curation\n",
    "    # \"MARIADB_GRADLE_4222\" : 'jdbc:mariadb',\n",
    "    # \"MARIADB_GRADLE_4222_2\" : 'jhipster-mariadb',    \n",
    "    \"COMPILATION_ERROR\": \"COMPILATION ERROR\",\n",
    "    \"ND\": \"ND\", \n",
    "    # \"SOCIAL_USER_CONNECTION\": \"SocialUserConnection\",\n",
    "    # \"JdbcTokenStore\" : \"No qualifying bean of type [org.springframework.security.oauth2.provider.token.store.JdbcTokenStore]\"\n",
    "}\n",
    "\n",
    "NAN_FAILURE_PATTERN = \"nan\"\n",
    "\n",
    "def check_pattern(log): \n",
    "    if (isinstance(log, float)):\n",
    "        return NAN_FAILURE_PATTERN\n",
    "    found_patterns = []\n",
    "    found_pattern = None\n",
    "    for name_pattern, message in failure_patterns.items():\n",
    "        if (message in log): # pattern recognized          \n",
    "            found_pattern = (name_pattern, message)\n",
    "            found_patterns.append(found_pattern)\n",
    "    return found_patterns\n",
    "\n"
   ]
  },
  {
   "cell_type": "code",
   "execution_count": 12,
   "metadata": {},
   "outputs": [
    {
     "data": {
      "text/html": [
       "<div>\n",
       "<style scoped>\n",
       "    .dataframe tbody tr th:only-of-type {\n",
       "        vertical-align: middle;\n",
       "    }\n",
       "\n",
       "    .dataframe tbody tr th {\n",
       "        vertical-align: top;\n",
       "    }\n",
       "\n",
       "    .dataframe thead th {\n",
       "        text-align: right;\n",
       "    }\n",
       "</style>\n",
       "<table border=\"1\" class=\"dataframe\">\n",
       "  <thead>\n",
       "    <tr style=\"text-align: right;\">\n",
       "      <th></th>\n",
       "      <th>JHipsterRegister</th>\n",
       "      <th>Docker</th>\n",
       "      <th>applicationType</th>\n",
       "      <th>authenticationType</th>\n",
       "      <th>hibernateCache</th>\n",
       "      <th>clusteredHttpSession</th>\n",
       "      <th>websocket</th>\n",
       "      <th>databaseType</th>\n",
       "      <th>devDatabaseType</th>\n",
       "      <th>prodDatabaseType</th>\n",
       "      <th>...</th>\n",
       "      <th>enableSocialSignIn</th>\n",
       "      <th>useSass</th>\n",
       "      <th>enableTranslation</th>\n",
       "      <th>testFrameworks</th>\n",
       "      <th>Generate</th>\n",
       "      <th>Log-Generate</th>\n",
       "      <th>Compile</th>\n",
       "      <th>Log-Compile</th>\n",
       "      <th>Build</th>\n",
       "      <th>Log-Build</th>\n",
       "    </tr>\n",
       "  </thead>\n",
       "  <tbody>\n",
       "    <tr>\n",
       "      <th>0</th>\n",
       "      <td>jhipster1</td>\n",
       "      <td>True</td>\n",
       "      <td>\"monolith\"</td>\n",
       "      <td>\"session\"</td>\n",
       "      <td>\"no\"</td>\n",
       "      <td>\"hazelcast\"</td>\n",
       "      <td>\"spring-websocket\"</td>\n",
       "      <td>\"sql\"</td>\n",
       "      <td>\"DiskBased\"</td>\n",
       "      <td>\"mariadb\"</td>\n",
       "      <td>...</td>\n",
       "      <td>false</td>\n",
       "      <td>false</td>\n",
       "      <td>False</td>\n",
       "      <td>[\"cucumber\",\"protractor\",\"gatling\"]</td>\n",
       "      <td>OK</td>\n",
       "      <td>Exception.java\\n\\nExceptionHandlingAsyncTaskEx...</td>\n",
       "      <td>OK</td>\n",
       "      <td>NaN</td>\n",
       "      <td>KO</td>\n",
       "      <td>Exception encountered during context initializ...</td>\n",
       "    </tr>\n",
       "    <tr>\n",
       "      <th>1</th>\n",
       "      <td>jhipster1</td>\n",
       "      <td>False</td>\n",
       "      <td>\"monolith\"</td>\n",
       "      <td>\"session\"</td>\n",
       "      <td>\"no\"</td>\n",
       "      <td>\"hazelcast\"</td>\n",
       "      <td>\"spring-websocket\"</td>\n",
       "      <td>\"sql\"</td>\n",
       "      <td>\"DiskBased\"</td>\n",
       "      <td>\"mariadb\"</td>\n",
       "      <td>...</td>\n",
       "      <td>false</td>\n",
       "      <td>false</td>\n",
       "      <td>False</td>\n",
       "      <td>[\"cucumber\",\"protractor\",\"gatling\"]</td>\n",
       "      <td>OK</td>\n",
       "      <td>Exception.java\\n\\nExceptionHandlingAsyncTaskEx...</td>\n",
       "      <td>OK</td>\n",
       "      <td>NaN</td>\n",
       "      <td>KO</td>\n",
       "      <td>Exception encountered during context initializ...</td>\n",
       "    </tr>\n",
       "    <tr>\n",
       "      <th>2</th>\n",
       "      <td>jhipster2</td>\n",
       "      <td>True</td>\n",
       "      <td>\"monolith\"</td>\n",
       "      <td>\"jwt\"</td>\n",
       "      <td>\"no\"</td>\n",
       "      <td>\"no\"</td>\n",
       "      <td>\"spring-websocket\"</td>\n",
       "      <td>\"mongodb\"</td>\n",
       "      <td>\"mongodb\"</td>\n",
       "      <td>\"mongodb\"</td>\n",
       "      <td>...</td>\n",
       "      <td>false</td>\n",
       "      <td>false</td>\n",
       "      <td>True</td>\n",
       "      <td>[\"gatling\",\"cucumber\",\"protractor\"]</td>\n",
       "      <td>OK</td>\n",
       "      <td>Exception.java\\n\\nExceptionHandlingAsyncTaskEx...</td>\n",
       "      <td>OK</td>\n",
       "      <td>NaN</td>\n",
       "      <td>OK</td>\n",
       "      <td>ND</td>\n",
       "    </tr>\n",
       "    <tr>\n",
       "      <th>3</th>\n",
       "      <td>jhipster2</td>\n",
       "      <td>False</td>\n",
       "      <td>\"monolith\"</td>\n",
       "      <td>\"jwt\"</td>\n",
       "      <td>\"no\"</td>\n",
       "      <td>\"no\"</td>\n",
       "      <td>\"spring-websocket\"</td>\n",
       "      <td>\"mongodb\"</td>\n",
       "      <td>\"mongodb\"</td>\n",
       "      <td>\"mongodb\"</td>\n",
       "      <td>...</td>\n",
       "      <td>false</td>\n",
       "      <td>false</td>\n",
       "      <td>True</td>\n",
       "      <td>[\"gatling\",\"cucumber\",\"protractor\"]</td>\n",
       "      <td>OK</td>\n",
       "      <td>Exception.java\\n\\nExceptionHandlingAsyncTaskEx...</td>\n",
       "      <td>OK</td>\n",
       "      <td>NaN</td>\n",
       "      <td>OK</td>\n",
       "      <td>ND</td>\n",
       "    </tr>\n",
       "    <tr>\n",
       "      <th>4</th>\n",
       "      <td>jhipster3</td>\n",
       "      <td>True</td>\n",
       "      <td>\"monolith\"</td>\n",
       "      <td>\"jwt\"</td>\n",
       "      <td>\"no\"</td>\n",
       "      <td>\"hazelcast\"</td>\n",
       "      <td>\"spring-websocket\"</td>\n",
       "      <td>\"sql\"</td>\n",
       "      <td>\"DiskBased\"</td>\n",
       "      <td>\"mysql\"</td>\n",
       "      <td>...</td>\n",
       "      <td>false</td>\n",
       "      <td>true</td>\n",
       "      <td>True</td>\n",
       "      <td>[\"cucumber\",\"gatling\",\"protractor\"]</td>\n",
       "      <td>OK</td>\n",
       "      <td>Exception.java\\n\\nExceptionHandlingAsyncTaskEx...</td>\n",
       "      <td>OK</td>\n",
       "      <td>NaN</td>\n",
       "      <td>OK</td>\n",
       "      <td>ND</td>\n",
       "    </tr>\n",
       "  </tbody>\n",
       "</table>\n",
       "<p>5 rows × 22 columns</p>\n",
       "</div>"
      ],
      "text/plain": [
       "  JHipsterRegister  Docker applicationType authenticationType hibernateCache  \\\n",
       "0        jhipster1    True      \"monolith\"          \"session\"           \"no\"   \n",
       "1        jhipster1   False      \"monolith\"          \"session\"           \"no\"   \n",
       "2        jhipster2    True      \"monolith\"              \"jwt\"           \"no\"   \n",
       "3        jhipster2   False      \"monolith\"              \"jwt\"           \"no\"   \n",
       "4        jhipster3    True      \"monolith\"              \"jwt\"           \"no\"   \n",
       "\n",
       "  clusteredHttpSession           websocket databaseType devDatabaseType  \\\n",
       "0          \"hazelcast\"  \"spring-websocket\"        \"sql\"     \"DiskBased\"   \n",
       "1          \"hazelcast\"  \"spring-websocket\"        \"sql\"     \"DiskBased\"   \n",
       "2                 \"no\"  \"spring-websocket\"    \"mongodb\"       \"mongodb\"   \n",
       "3                 \"no\"  \"spring-websocket\"    \"mongodb\"       \"mongodb\"   \n",
       "4          \"hazelcast\"  \"spring-websocket\"        \"sql\"     \"DiskBased\"   \n",
       "\n",
       "  prodDatabaseType  ... enableSocialSignIn useSass enableTranslation  \\\n",
       "0        \"mariadb\"  ...              false   false             False   \n",
       "1        \"mariadb\"  ...              false   false             False   \n",
       "2        \"mongodb\"  ...              false   false              True   \n",
       "3        \"mongodb\"  ...              false   false              True   \n",
       "4          \"mysql\"  ...              false    true              True   \n",
       "\n",
       "                        testFrameworks  Generate  \\\n",
       "0  [\"cucumber\",\"protractor\",\"gatling\"]        OK   \n",
       "1  [\"cucumber\",\"protractor\",\"gatling\"]        OK   \n",
       "2  [\"gatling\",\"cucumber\",\"protractor\"]        OK   \n",
       "3  [\"gatling\",\"cucumber\",\"protractor\"]        OK   \n",
       "4  [\"cucumber\",\"gatling\",\"protractor\"]        OK   \n",
       "\n",
       "                                        Log-Generate Compile Log-Compile  \\\n",
       "0  Exception.java\\n\\nExceptionHandlingAsyncTaskEx...      OK         NaN   \n",
       "1  Exception.java\\n\\nExceptionHandlingAsyncTaskEx...      OK         NaN   \n",
       "2  Exception.java\\n\\nExceptionHandlingAsyncTaskEx...      OK         NaN   \n",
       "3  Exception.java\\n\\nExceptionHandlingAsyncTaskEx...      OK         NaN   \n",
       "4  Exception.java\\n\\nExceptionHandlingAsyncTaskEx...      OK         NaN   \n",
       "\n",
       "  Build                                          Log-Build  \n",
       "0    KO  Exception encountered during context initializ...  \n",
       "1    KO  Exception encountered during context initializ...  \n",
       "2    OK                                                 ND  \n",
       "3    OK                                                 ND  \n",
       "4    OK                                                 ND  \n",
       "\n",
       "[5 rows x 22 columns]"
      ]
     },
     "execution_count": 12,
     "metadata": {},
     "output_type": "execute_result"
    }
   ],
   "source": [
    "df.head()"
   ]
  },
  {
   "cell_type": "code",
   "execution_count": 13,
   "metadata": {},
   "outputs": [
    {
     "ename": "KeyError",
     "evalue": "'Log.Build'",
     "output_type": "error",
     "traceback": [
      "\u001b[0;31m---------------------------------------------------------------------------\u001b[0m",
      "\u001b[0;31mKeyError\u001b[0m                                  Traceback (most recent call last)",
      "\u001b[0;32m/usr/local/lib64/python3.7/site-packages/pandas/core/indexes/base.py\u001b[0m in \u001b[0;36mget_loc\u001b[0;34m(self, key, method, tolerance)\u001b[0m\n\u001b[1;32m   3079\u001b[0m             \u001b[0;32mtry\u001b[0m\u001b[0;34m:\u001b[0m\u001b[0;34m\u001b[0m\u001b[0;34m\u001b[0m\u001b[0m\n\u001b[0;32m-> 3080\u001b[0;31m                 \u001b[0;32mreturn\u001b[0m \u001b[0mself\u001b[0m\u001b[0;34m.\u001b[0m\u001b[0m_engine\u001b[0m\u001b[0;34m.\u001b[0m\u001b[0mget_loc\u001b[0m\u001b[0;34m(\u001b[0m\u001b[0mcasted_key\u001b[0m\u001b[0;34m)\u001b[0m\u001b[0;34m\u001b[0m\u001b[0;34m\u001b[0m\u001b[0m\n\u001b[0m\u001b[1;32m   3081\u001b[0m             \u001b[0;32mexcept\u001b[0m \u001b[0mKeyError\u001b[0m \u001b[0;32mas\u001b[0m \u001b[0merr\u001b[0m\u001b[0;34m:\u001b[0m\u001b[0;34m\u001b[0m\u001b[0;34m\u001b[0m\u001b[0m\n",
      "\u001b[0;32mpandas/_libs/index.pyx\u001b[0m in \u001b[0;36mpandas._libs.index.IndexEngine.get_loc\u001b[0;34m()\u001b[0m\n",
      "\u001b[0;32mpandas/_libs/index.pyx\u001b[0m in \u001b[0;36mpandas._libs.index.IndexEngine.get_loc\u001b[0;34m()\u001b[0m\n",
      "\u001b[0;32mpandas/_libs/hashtable_class_helper.pxi\u001b[0m in \u001b[0;36mpandas._libs.hashtable.PyObjectHashTable.get_item\u001b[0;34m()\u001b[0m\n",
      "\u001b[0;32mpandas/_libs/hashtable_class_helper.pxi\u001b[0m in \u001b[0;36mpandas._libs.hashtable.PyObjectHashTable.get_item\u001b[0;34m()\u001b[0m\n",
      "\u001b[0;31mKeyError\u001b[0m: 'Log.Build'",
      "\nThe above exception was the direct cause of the following exception:\n",
      "\u001b[0;31mKeyError\u001b[0m                                  Traceback (most recent call last)",
      "\u001b[0;32m<ipython-input-13-2dc911d0bae4>\u001b[0m in \u001b[0;36m<module>\u001b[0;34m\u001b[0m\n\u001b[1;32m      1\u001b[0m \u001b[0;31m# MariaDB + Gradle = fails\u001b[0m\u001b[0;34m\u001b[0m\u001b[0;34m\u001b[0m\u001b[0;34m\u001b[0m\u001b[0m\n\u001b[1;32m      2\u001b[0m \u001b[0mdf2\u001b[0m \u001b[0;34m=\u001b[0m \u001b[0mfilter_with_configbugs\u001b[0m\u001b[0;34m(\u001b[0m\u001b[0mmariadb_cfgbug\u001b[0m\u001b[0;34m,\u001b[0m \u001b[0mdf\u001b[0m\u001b[0;34m)\u001b[0m \u001b[0;31m# df[(df.prodDatabaseType == '\"mariadb\"') & (df.buildTool == '\"gradle\"')]\u001b[0m\u001b[0;34m\u001b[0m\u001b[0;34m\u001b[0m\u001b[0m\n\u001b[0;32m----> 3\u001b[0;31m \u001b[0mlogs4222\u001b[0m \u001b[0;34m=\u001b[0m \u001b[0mdf2\u001b[0m\u001b[0;34m[\u001b[0m\u001b[0;34m'Log.Build'\u001b[0m\u001b[0;34m]\u001b[0m \u001b[0;31m# df2['Log-Build'] # https://github.com/jhipster/generator-jhipster/pull/4222\u001b[0m\u001b[0;34m\u001b[0m\u001b[0;34m\u001b[0m\u001b[0m\n\u001b[0m\u001b[1;32m      4\u001b[0m \u001b[0mprint\u001b[0m\u001b[0;34m(\u001b[0m\u001b[0mlen\u001b[0m\u001b[0;34m(\u001b[0m\u001b[0mlogs4222\u001b[0m\u001b[0;34m)\u001b[0m\u001b[0;34m)\u001b[0m\u001b[0;34m\u001b[0m\u001b[0;34m\u001b[0m\u001b[0m\n\u001b[1;32m      5\u001b[0m \u001b[0;32mfor\u001b[0m \u001b[0mlog\u001b[0m \u001b[0;32min\u001b[0m \u001b[0mlogs4222\u001b[0m\u001b[0;34m:\u001b[0m\u001b[0;34m\u001b[0m\u001b[0;34m\u001b[0m\u001b[0m\n",
      "\u001b[0;32m/usr/local/lib64/python3.7/site-packages/pandas/core/frame.py\u001b[0m in \u001b[0;36m__getitem__\u001b[0;34m(self, key)\u001b[0m\n\u001b[1;32m   3022\u001b[0m             \u001b[0;32mif\u001b[0m \u001b[0mself\u001b[0m\u001b[0;34m.\u001b[0m\u001b[0mcolumns\u001b[0m\u001b[0;34m.\u001b[0m\u001b[0mnlevels\u001b[0m \u001b[0;34m>\u001b[0m \u001b[0;36m1\u001b[0m\u001b[0;34m:\u001b[0m\u001b[0;34m\u001b[0m\u001b[0;34m\u001b[0m\u001b[0m\n\u001b[1;32m   3023\u001b[0m                 \u001b[0;32mreturn\u001b[0m \u001b[0mself\u001b[0m\u001b[0;34m.\u001b[0m\u001b[0m_getitem_multilevel\u001b[0m\u001b[0;34m(\u001b[0m\u001b[0mkey\u001b[0m\u001b[0;34m)\u001b[0m\u001b[0;34m\u001b[0m\u001b[0;34m\u001b[0m\u001b[0m\n\u001b[0;32m-> 3024\u001b[0;31m             \u001b[0mindexer\u001b[0m \u001b[0;34m=\u001b[0m \u001b[0mself\u001b[0m\u001b[0;34m.\u001b[0m\u001b[0mcolumns\u001b[0m\u001b[0;34m.\u001b[0m\u001b[0mget_loc\u001b[0m\u001b[0;34m(\u001b[0m\u001b[0mkey\u001b[0m\u001b[0;34m)\u001b[0m\u001b[0;34m\u001b[0m\u001b[0;34m\u001b[0m\u001b[0m\n\u001b[0m\u001b[1;32m   3025\u001b[0m             \u001b[0;32mif\u001b[0m \u001b[0mis_integer\u001b[0m\u001b[0;34m(\u001b[0m\u001b[0mindexer\u001b[0m\u001b[0;34m)\u001b[0m\u001b[0;34m:\u001b[0m\u001b[0;34m\u001b[0m\u001b[0;34m\u001b[0m\u001b[0m\n\u001b[1;32m   3026\u001b[0m                 \u001b[0mindexer\u001b[0m \u001b[0;34m=\u001b[0m \u001b[0;34m[\u001b[0m\u001b[0mindexer\u001b[0m\u001b[0;34m]\u001b[0m\u001b[0;34m\u001b[0m\u001b[0;34m\u001b[0m\u001b[0m\n",
      "\u001b[0;32m/usr/local/lib64/python3.7/site-packages/pandas/core/indexes/base.py\u001b[0m in \u001b[0;36mget_loc\u001b[0;34m(self, key, method, tolerance)\u001b[0m\n\u001b[1;32m   3080\u001b[0m                 \u001b[0;32mreturn\u001b[0m \u001b[0mself\u001b[0m\u001b[0;34m.\u001b[0m\u001b[0m_engine\u001b[0m\u001b[0;34m.\u001b[0m\u001b[0mget_loc\u001b[0m\u001b[0;34m(\u001b[0m\u001b[0mcasted_key\u001b[0m\u001b[0;34m)\u001b[0m\u001b[0;34m\u001b[0m\u001b[0;34m\u001b[0m\u001b[0m\n\u001b[1;32m   3081\u001b[0m             \u001b[0;32mexcept\u001b[0m \u001b[0mKeyError\u001b[0m \u001b[0;32mas\u001b[0m \u001b[0merr\u001b[0m\u001b[0;34m:\u001b[0m\u001b[0;34m\u001b[0m\u001b[0;34m\u001b[0m\u001b[0m\n\u001b[0;32m-> 3082\u001b[0;31m                 \u001b[0;32mraise\u001b[0m \u001b[0mKeyError\u001b[0m\u001b[0;34m(\u001b[0m\u001b[0mkey\u001b[0m\u001b[0;34m)\u001b[0m \u001b[0;32mfrom\u001b[0m \u001b[0merr\u001b[0m\u001b[0;34m\u001b[0m\u001b[0;34m\u001b[0m\u001b[0m\n\u001b[0m\u001b[1;32m   3083\u001b[0m \u001b[0;34m\u001b[0m\u001b[0m\n\u001b[1;32m   3084\u001b[0m         \u001b[0;32mif\u001b[0m \u001b[0mtolerance\u001b[0m \u001b[0;32mis\u001b[0m \u001b[0;32mnot\u001b[0m \u001b[0;32mNone\u001b[0m\u001b[0;34m:\u001b[0m\u001b[0;34m\u001b[0m\u001b[0;34m\u001b[0m\u001b[0m\n",
      "\u001b[0;31mKeyError\u001b[0m: 'Log.Build'"
     ]
    }
   ],
   "source": [
    "# MariaDB + Gradle = fails\n",
    "df2 = filter_with_configbugs(mariadb_cfgbug, df) # df[(df.prodDatabaseType == '\"mariadb\"') & (df.buildTool == '\"gradle\"')] \n",
    "logs4222 = df2['Log.Build'] # df2['Log-Build'] # https://github.com/jhipster/generator-jhipster/pull/4222\n",
    "print(len(logs4222))\n",
    "for log in logs4222:    \n",
    "    found_patterns = check_pattern(log)\n",
    "    if not found_patterns:\n",
    "        print(\"no pattern recognized, it's another kind of failure...\", log)\n",
    "    elif not isinstance(found_patterns, list) and found_patterns is NAN_FAILURE_PATTERN:\n",
    "        continue\n",
    "    else:\n",
    "        if (not failure_patterns[\"MARIADB_GRADLE_4222\"] in [f[1] for f in found_patterns]) and (not failure_patterns[\"MARIADB_GRADLE_4222_2\"] in [f[1] for f in found_patterns]):\n",
    "            print(\"no MARIADB_GRADLE_4222\", found_patterns)"
   ]
  },
  {
   "cell_type": "code",
   "execution_count": 14,
   "metadata": {},
   "outputs": [
    {
     "ename": "NameError",
     "evalue": "name 'uaa_cfgbug' is not defined",
     "output_type": "error",
     "traceback": [
      "\u001b[0;31m---------------------------------------------------------------------------\u001b[0m",
      "\u001b[0;31mNameError\u001b[0m                                 Traceback (most recent call last)",
      "\u001b[0;32m<ipython-input-14-c35d2d1cb3b2>\u001b[0m in \u001b[0;36m<module>\u001b[0;34m\u001b[0m\n\u001b[0;32m----> 1\u001b[0;31m \u001b[0mdf3\u001b[0m \u001b[0;34m=\u001b[0m \u001b[0mfilter_with_configbugs\u001b[0m\u001b[0;34m(\u001b[0m\u001b[0muaa_cfgbug\u001b[0m\u001b[0;34m,\u001b[0m \u001b[0mdf\u001b[0m\u001b[0;34m)\u001b[0m\u001b[0;34m\u001b[0m\u001b[0;34m\u001b[0m\u001b[0m\n\u001b[0m\u001b[1;32m      2\u001b[0m \u001b[0mlogsUAA\u001b[0m \u001b[0;34m=\u001b[0m \u001b[0mdf3\u001b[0m\u001b[0;34m[\u001b[0m\u001b[0;34m'Log.Build'\u001b[0m\u001b[0;34m]\u001b[0m \u001b[0;31m# UAA in beta\u001b[0m\u001b[0;34m\u001b[0m\u001b[0;34m\u001b[0m\u001b[0m\n\u001b[1;32m      3\u001b[0m \u001b[0mmasking\u001b[0m \u001b[0;34m=\u001b[0m \u001b[0;36m0\u001b[0m\u001b[0;34m\u001b[0m\u001b[0;34m\u001b[0m\u001b[0m\n\u001b[1;32m      4\u001b[0m \u001b[0mprint\u001b[0m\u001b[0;34m(\u001b[0m\u001b[0mlen\u001b[0m\u001b[0;34m(\u001b[0m\u001b[0mlogsUAA\u001b[0m\u001b[0;34m)\u001b[0m\u001b[0;34m)\u001b[0m\u001b[0;34m\u001b[0m\u001b[0;34m\u001b[0m\u001b[0m\n\u001b[1;32m      5\u001b[0m \u001b[0;32mfor\u001b[0m \u001b[0mlog\u001b[0m \u001b[0;32min\u001b[0m \u001b[0mlogsUAA\u001b[0m\u001b[0;34m:\u001b[0m\u001b[0;34m\u001b[0m\u001b[0;34m\u001b[0m\u001b[0m\n",
      "\u001b[0;31mNameError\u001b[0m: name 'uaa_cfgbug' is not defined"
     ]
    }
   ],
   "source": [
    "df3 = filter_with_configbugs(uaa_cfgbug, df)\n",
    "logsUAA = df3['Log.Build'] # UAA in beta \n",
    "masking = 0\n",
    "print(len(logsUAA))\n",
    "for log in logsUAA:\n",
    "    found_patterns = check_pattern(log)\n",
    "    if not found_patterns:\n",
    "        print(\"no pattern recognized, it's another kind of failure...\", log)\n",
    "    elif not isinstance(found_patterns, list) and found_patterns is NAN_FAILURE_PATTERN:\n",
    "        continue\n",
    "    else:\n",
    "        if (not failure_patterns[\"UAA_DOCKER\"] in [f[1] for f in found_patterns]):\n",
    "            masking = masking + 1\n",
    "            print(\"no UAA!\", found_patterns)\n",
    "masking"
   ]
  },
  {
   "cell_type": "code",
   "execution_count": 15,
   "metadata": {},
   "outputs": [
    {
     "ename": "KeyError",
     "evalue": "'Log.Build'",
     "output_type": "error",
     "traceback": [
      "\u001b[0;31m---------------------------------------------------------------------------\u001b[0m",
      "\u001b[0;31mKeyError\u001b[0m                                  Traceback (most recent call last)",
      "\u001b[0;32m/usr/local/lib64/python3.7/site-packages/pandas/core/indexes/base.py\u001b[0m in \u001b[0;36mget_loc\u001b[0;34m(self, key, method, tolerance)\u001b[0m\n\u001b[1;32m   3079\u001b[0m             \u001b[0;32mtry\u001b[0m\u001b[0;34m:\u001b[0m\u001b[0;34m\u001b[0m\u001b[0;34m\u001b[0m\u001b[0m\n\u001b[0;32m-> 3080\u001b[0;31m                 \u001b[0;32mreturn\u001b[0m \u001b[0mself\u001b[0m\u001b[0;34m.\u001b[0m\u001b[0m_engine\u001b[0m\u001b[0;34m.\u001b[0m\u001b[0mget_loc\u001b[0m\u001b[0;34m(\u001b[0m\u001b[0mcasted_key\u001b[0m\u001b[0;34m)\u001b[0m\u001b[0;34m\u001b[0m\u001b[0;34m\u001b[0m\u001b[0m\n\u001b[0m\u001b[1;32m   3081\u001b[0m             \u001b[0;32mexcept\u001b[0m \u001b[0mKeyError\u001b[0m \u001b[0;32mas\u001b[0m \u001b[0merr\u001b[0m\u001b[0;34m:\u001b[0m\u001b[0;34m\u001b[0m\u001b[0;34m\u001b[0m\u001b[0m\n",
      "\u001b[0;32mpandas/_libs/index.pyx\u001b[0m in \u001b[0;36mpandas._libs.index.IndexEngine.get_loc\u001b[0;34m()\u001b[0m\n",
      "\u001b[0;32mpandas/_libs/index.pyx\u001b[0m in \u001b[0;36mpandas._libs.index.IndexEngine.get_loc\u001b[0;34m()\u001b[0m\n",
      "\u001b[0;32mpandas/_libs/hashtable_class_helper.pxi\u001b[0m in \u001b[0;36mpandas._libs.hashtable.PyObjectHashTable.get_item\u001b[0;34m()\u001b[0m\n",
      "\u001b[0;32mpandas/_libs/hashtable_class_helper.pxi\u001b[0m in \u001b[0;36mpandas._libs.hashtable.PyObjectHashTable.get_item\u001b[0;34m()\u001b[0m\n",
      "\u001b[0;31mKeyError\u001b[0m: 'Log.Build'",
      "\nThe above exception was the direct cause of the following exception:\n",
      "\u001b[0;31mKeyError\u001b[0m                                  Traceback (most recent call last)",
      "\u001b[0;32m<ipython-input-15-b0a49c917abf>\u001b[0m in \u001b[0;36m<module>\u001b[0;34m\u001b[0m\n\u001b[1;32m     16\u001b[0m         \u001b[0mbugs_found\u001b[0m\u001b[0;34m.\u001b[0m\u001b[0mappend\u001b[0m\u001b[0;34m(\u001b[0m\u001b[0;34m\"NON_MAJOR_BUG\"\u001b[0m\u001b[0;34m)\u001b[0m \u001b[0;31m# strange but real case (for ~200)\u001b[0m\u001b[0;34m\u001b[0m\u001b[0;34m\u001b[0m\u001b[0m\n\u001b[1;32m     17\u001b[0m \u001b[0;34m\u001b[0m\u001b[0m\n\u001b[0;32m---> 18\u001b[0;31m     \u001b[0mfailures_found\u001b[0m \u001b[0;34m=\u001b[0m \u001b[0mcheck_pattern\u001b[0m\u001b[0;34m(\u001b[0m\u001b[0mcf\u001b[0m\u001b[0;34m[\u001b[0m\u001b[0;34m'Log.Build'\u001b[0m\u001b[0;34m]\u001b[0m\u001b[0;34m)\u001b[0m\u001b[0;34m\u001b[0m\u001b[0;34m\u001b[0m\u001b[0m\n\u001b[0m\u001b[1;32m     19\u001b[0m     \u001b[0;32mif\u001b[0m \u001b[0;34m(\u001b[0m\u001b[0mfailures_found\u001b[0m \u001b[0;32mis\u001b[0m \u001b[0mNAN_FAILURE_PATTERN\u001b[0m\u001b[0;34m)\u001b[0m\u001b[0;34m:\u001b[0m\u001b[0;34m\u001b[0m\u001b[0;34m\u001b[0m\u001b[0m\n\u001b[1;32m     20\u001b[0m         \u001b[0mnfailures\u001b[0m \u001b[0;34m=\u001b[0m \u001b[0;36m0\u001b[0m\u001b[0;34m\u001b[0m\u001b[0;34m\u001b[0m\u001b[0m\n",
      "\u001b[0;32m/usr/local/lib64/python3.7/site-packages/pandas/core/series.py\u001b[0m in \u001b[0;36m__getitem__\u001b[0;34m(self, key)\u001b[0m\n\u001b[1;32m    822\u001b[0m \u001b[0;34m\u001b[0m\u001b[0m\n\u001b[1;32m    823\u001b[0m         \u001b[0;32melif\u001b[0m \u001b[0mkey_is_scalar\u001b[0m\u001b[0;34m:\u001b[0m\u001b[0;34m\u001b[0m\u001b[0;34m\u001b[0m\u001b[0m\n\u001b[0;32m--> 824\u001b[0;31m             \u001b[0;32mreturn\u001b[0m \u001b[0mself\u001b[0m\u001b[0;34m.\u001b[0m\u001b[0m_get_value\u001b[0m\u001b[0;34m(\u001b[0m\u001b[0mkey\u001b[0m\u001b[0;34m)\u001b[0m\u001b[0;34m\u001b[0m\u001b[0;34m\u001b[0m\u001b[0m\n\u001b[0m\u001b[1;32m    825\u001b[0m \u001b[0;34m\u001b[0m\u001b[0m\n\u001b[1;32m    826\u001b[0m         \u001b[0;32mif\u001b[0m \u001b[0mis_hashable\u001b[0m\u001b[0;34m(\u001b[0m\u001b[0mkey\u001b[0m\u001b[0;34m)\u001b[0m\u001b[0;34m:\u001b[0m\u001b[0;34m\u001b[0m\u001b[0;34m\u001b[0m\u001b[0m\n",
      "\u001b[0;32m/usr/local/lib64/python3.7/site-packages/pandas/core/series.py\u001b[0m in \u001b[0;36m_get_value\u001b[0;34m(self, label, takeable)\u001b[0m\n\u001b[1;32m    930\u001b[0m \u001b[0;34m\u001b[0m\u001b[0m\n\u001b[1;32m    931\u001b[0m         \u001b[0;31m# Similar to Index.get_value, but we do not fall back to positional\u001b[0m\u001b[0;34m\u001b[0m\u001b[0;34m\u001b[0m\u001b[0;34m\u001b[0m\u001b[0m\n\u001b[0;32m--> 932\u001b[0;31m         \u001b[0mloc\u001b[0m \u001b[0;34m=\u001b[0m \u001b[0mself\u001b[0m\u001b[0;34m.\u001b[0m\u001b[0mindex\u001b[0m\u001b[0;34m.\u001b[0m\u001b[0mget_loc\u001b[0m\u001b[0;34m(\u001b[0m\u001b[0mlabel\u001b[0m\u001b[0;34m)\u001b[0m\u001b[0;34m\u001b[0m\u001b[0;34m\u001b[0m\u001b[0m\n\u001b[0m\u001b[1;32m    933\u001b[0m         \u001b[0;32mreturn\u001b[0m \u001b[0mself\u001b[0m\u001b[0;34m.\u001b[0m\u001b[0mindex\u001b[0m\u001b[0;34m.\u001b[0m\u001b[0m_get_values_for_loc\u001b[0m\u001b[0;34m(\u001b[0m\u001b[0mself\u001b[0m\u001b[0;34m,\u001b[0m \u001b[0mloc\u001b[0m\u001b[0;34m,\u001b[0m \u001b[0mlabel\u001b[0m\u001b[0;34m)\u001b[0m\u001b[0;34m\u001b[0m\u001b[0;34m\u001b[0m\u001b[0m\n\u001b[1;32m    934\u001b[0m \u001b[0;34m\u001b[0m\u001b[0m\n",
      "\u001b[0;32m/usr/local/lib64/python3.7/site-packages/pandas/core/indexes/base.py\u001b[0m in \u001b[0;36mget_loc\u001b[0;34m(self, key, method, tolerance)\u001b[0m\n\u001b[1;32m   3080\u001b[0m                 \u001b[0;32mreturn\u001b[0m \u001b[0mself\u001b[0m\u001b[0;34m.\u001b[0m\u001b[0m_engine\u001b[0m\u001b[0;34m.\u001b[0m\u001b[0mget_loc\u001b[0m\u001b[0;34m(\u001b[0m\u001b[0mcasted_key\u001b[0m\u001b[0;34m)\u001b[0m\u001b[0;34m\u001b[0m\u001b[0;34m\u001b[0m\u001b[0m\n\u001b[1;32m   3081\u001b[0m             \u001b[0;32mexcept\u001b[0m \u001b[0mKeyError\u001b[0m \u001b[0;32mas\u001b[0m \u001b[0merr\u001b[0m\u001b[0;34m:\u001b[0m\u001b[0;34m\u001b[0m\u001b[0;34m\u001b[0m\u001b[0m\n\u001b[0;32m-> 3082\u001b[0;31m                 \u001b[0;32mraise\u001b[0m \u001b[0mKeyError\u001b[0m\u001b[0;34m(\u001b[0m\u001b[0mkey\u001b[0m\u001b[0;34m)\u001b[0m \u001b[0;32mfrom\u001b[0m \u001b[0merr\u001b[0m\u001b[0;34m\u001b[0m\u001b[0;34m\u001b[0m\u001b[0m\n\u001b[0m\u001b[1;32m   3083\u001b[0m \u001b[0;34m\u001b[0m\u001b[0m\n\u001b[1;32m   3084\u001b[0m         \u001b[0;32mif\u001b[0m \u001b[0mtolerance\u001b[0m \u001b[0;32mis\u001b[0m \u001b[0;32mnot\u001b[0m \u001b[0;32mNone\u001b[0m\u001b[0;34m:\u001b[0m\u001b[0;34m\u001b[0m\u001b[0;34m\u001b[0m\u001b[0m\n",
      "\u001b[0;31mKeyError\u001b[0m: 'Log.Build'"
     ]
    }
   ],
   "source": [
    "def is_cfgbug_present(jh_bug, cf):   \n",
    "    for col, val in jh_bug.items():\n",
    "        if (not cf[col] == val):\n",
    "            return False\n",
    "    return True\n",
    "\n",
    "df_bugs = pd.DataFrame(columns=[\"cfg\", \"bugs\", \"nb_bugs\", \"failures\", \"nb_failures\"])\n",
    "for i, cf in df.iterrows():\n",
    "    bugs_found = [] \n",
    "    for jh_bug in jh_major_bugs:\n",
    "        if (is_cfgbug_present(jh_bug, cf)):\n",
    "            bugs_found.append(jh_bug)       \n",
    "        else:\n",
    "            continue\n",
    "    if (len(bugs_found) == 0) and (cf['Build'] == 'KO' or cf['Compile'] == 'KO'):\n",
    "        bugs_found.append(\"NON_MAJOR_BUG\") # strange but real case (for ~200)\n",
    "        \n",
    "    failures_found = check_pattern(cf['Log.Build'])\n",
    "    if (failures_found is NAN_FAILURE_PATTERN):\n",
    "        nfailures = 0\n",
    "    else:\n",
    "        nfailures = len(failures_found)\n",
    "    df_bugs = df_bugs.append({'cfg' : i, 'bugs' : bugs_found, \"nb_bugs\" : len(bugs_found), \"failures\" : failures_found, \"nb_failures\": nfailures}, ignore_index=True)\n",
    "        \n",
    "\n",
    "            \n",
    "        \n"
   ]
  },
  {
   "cell_type": "code",
   "execution_count": 16,
   "metadata": {},
   "outputs": [
    {
     "data": {
      "text/plain": [
       "JHipsterRegister                                            jhipster13119\n",
       "Docker                                                              False\n",
       "applicationType                                                 \"gateway\"\n",
       "authenticationType                                                  \"uaa\"\n",
       "hibernateCache                                                \"hazelcast\"\n",
       "clusteredHttpSession                                          \"hazelcast\"\n",
       "websocket                                                            \"no\"\n",
       "databaseType                                                        \"sql\"\n",
       "devDatabaseType                                               \"DiskBased\"\n",
       "prodDatabaseType                                             \"postgresql\"\n",
       "buildTool                                                        \"gradle\"\n",
       "searchEngine                                                         \"no\"\n",
       "enableSocialSignIn                                                  false\n",
       "useSass                                                              true\n",
       "enableTranslation                                                    True\n",
       "testFrameworks                        [\"cucumber\",\"gatling\",\"protractor\"]\n",
       "Generate                                                               OK\n",
       "Log-Generate            ExceptionHandlingAsyncTaskExecutor.java\\n\\nExc...\n",
       "Compile                                                                OK\n",
       "Log-Compile                                                           NaN\n",
       "Build                                                                  KO\n",
       "Log-Build               Exception encountered during context initializ...\n",
       "Name: 26237, dtype: object"
      ]
     },
     "execution_count": 16,
     "metadata": {},
     "output_type": "execute_result"
    }
   ],
   "source": [
    "df.loc[26237]"
   ]
  },
  {
   "cell_type": "code",
   "execution_count": 17,
   "metadata": {},
   "outputs": [
    {
     "ename": "AssertionError",
     "evalue": "",
     "output_type": "error",
     "traceback": [
      "\u001b[0;31m---------------------------------------------------------------------------\u001b[0m",
      "\u001b[0;31mAssertionError\u001b[0m                            Traceback (most recent call last)",
      "\u001b[0;32m<ipython-input-17-6668e95bb9a4>\u001b[0m in \u001b[0;36m<module>\u001b[0;34m\u001b[0m\n\u001b[0;32m----> 1\u001b[0;31m \u001b[0;32massert\u001b[0m\u001b[0;34m(\u001b[0m\u001b[0mlen\u001b[0m\u001b[0;34m(\u001b[0m\u001b[0mdf_bugs\u001b[0m\u001b[0;34m.\u001b[0m\u001b[0mquery\u001b[0m\u001b[0;34m(\u001b[0m\u001b[0;34m\"nb_bugs >= 1\"\u001b[0m\u001b[0;34m)\u001b[0m\u001b[0;34m)\u001b[0m \u001b[0;34m==\u001b[0m \u001b[0mlen\u001b[0m\u001b[0;34m(\u001b[0m\u001b[0mdf\u001b[0m\u001b[0;34m.\u001b[0m\u001b[0mquery\u001b[0m\u001b[0;34m(\u001b[0m\u001b[0;34m\"Build == 'KO' | Compile == 'KO'\"\u001b[0m\u001b[0;34m)\u001b[0m\u001b[0;34m)\u001b[0m\u001b[0;34m)\u001b[0m\u001b[0;34m\u001b[0m\u001b[0;34m\u001b[0m\u001b[0m\n\u001b[0m",
      "\u001b[0;31mAssertionError\u001b[0m: "
     ]
    }
   ],
   "source": [
    "assert(len(df_bugs.query(\"nb_bugs >= 1\")) == len(df.query(\"Build == 'KO' | Compile == 'KO'\")))"
   ]
  },
  {
   "cell_type": "code",
   "execution_count": 18,
   "metadata": {},
   "outputs": [
    {
     "ename": "AssertionError",
     "evalue": "",
     "output_type": "error",
     "traceback": [
      "\u001b[0;31m---------------------------------------------------------------------------\u001b[0m",
      "\u001b[0;31mAssertionError\u001b[0m                            Traceback (most recent call last)",
      "\u001b[0;32m<ipython-input-18-2574b0de351e>\u001b[0m in \u001b[0;36m<module>\u001b[0;34m\u001b[0m\n\u001b[1;32m      2\u001b[0m     \u001b[0mprint\u001b[0m\u001b[0;34m(\u001b[0m\u001b[0mdf\u001b[0m\u001b[0;34m.\u001b[0m\u001b[0mloc\u001b[0m\u001b[0;34m[\u001b[0m\u001b[0mnofailure\u001b[0m\u001b[0;34m[\u001b[0m\u001b[0;34m'cfg'\u001b[0m\u001b[0;34m]\u001b[0m\u001b[0;34m]\u001b[0m\u001b[0;34m[\u001b[0m\u001b[0;34m'Log.Build'\u001b[0m\u001b[0;34m]\u001b[0m\u001b[0;34m)\u001b[0m\u001b[0;34m\u001b[0m\u001b[0;34m\u001b[0m\u001b[0m\n\u001b[1;32m      3\u001b[0m \u001b[0;31m# len(df.query(\"Build == 'KO' | Compile == 'KO'\"))\u001b[0m\u001b[0;34m\u001b[0m\u001b[0;34m\u001b[0m\u001b[0;34m\u001b[0m\u001b[0m\n\u001b[0;32m----> 4\u001b[0;31m \u001b[0;32massert\u001b[0m\u001b[0;34m(\u001b[0m\u001b[0mlen\u001b[0m\u001b[0;34m(\u001b[0m\u001b[0mdf_bugs\u001b[0m\u001b[0;34m.\u001b[0m\u001b[0mquery\u001b[0m\u001b[0;34m(\u001b[0m\u001b[0;34m\"nb_bugs >= 1\"\u001b[0m\u001b[0;34m)\u001b[0m\u001b[0;34m)\u001b[0m \u001b[0;34m==\u001b[0m \u001b[0mlen\u001b[0m\u001b[0;34m(\u001b[0m\u001b[0mdf\u001b[0m\u001b[0;34m.\u001b[0m\u001b[0mquery\u001b[0m\u001b[0;34m(\u001b[0m\u001b[0;34m\"Build == 'KO' | Compile == 'KO'\"\u001b[0m\u001b[0;34m)\u001b[0m\u001b[0;34m)\u001b[0m\u001b[0;34m)\u001b[0m\u001b[0;34m\u001b[0m\u001b[0;34m\u001b[0m\u001b[0m\n\u001b[0m\u001b[1;32m      5\u001b[0m \u001b[0;31m# assert(len(df_bugs.query(\"nb_bugs >= 1 & nb_failures == 1\")) == len(df.query(\"Build == 'KO' | Compile == 'KO'\")))\u001b[0m\u001b[0;34m\u001b[0m\u001b[0;34m\u001b[0m\u001b[0;34m\u001b[0m\u001b[0m\n",
      "\u001b[0;31mAssertionError\u001b[0m: "
     ]
    }
   ],
   "source": [
    "for i, nofailure in df_bugs.query(\"nb_bugs >= 1 & nb_failures == 0\").iterrows():\n",
    "    print(df.loc[nofailure['cfg']]['Log.Build'])\n",
    "# len(df.query(\"Build == 'KO' | Compile == 'KO'\"))\n",
    "assert(len(df_bugs.query(\"nb_bugs >= 1\")) == len(df.query(\"Build == 'KO' | Compile == 'KO'\")))\n",
    "# assert(len(df_bugs.query(\"nb_bugs >= 1 & nb_failures == 1\")) == len(df.query(\"Build == 'KO' | Compile == 'KO'\")))"
   ]
  },
  {
   "cell_type": "code",
   "execution_count": 19,
   "metadata": {},
   "outputs": [
    {
     "data": {
      "text/html": [
       "<div>\n",
       "<style scoped>\n",
       "    .dataframe tbody tr th:only-of-type {\n",
       "        vertical-align: middle;\n",
       "    }\n",
       "\n",
       "    .dataframe tbody tr th {\n",
       "        vertical-align: top;\n",
       "    }\n",
       "\n",
       "    .dataframe thead th {\n",
       "        text-align: right;\n",
       "    }\n",
       "</style>\n",
       "<table border=\"1\" class=\"dataframe\">\n",
       "  <thead>\n",
       "    <tr style=\"text-align: right;\">\n",
       "      <th></th>\n",
       "      <th>cfg</th>\n",
       "      <th>bugs</th>\n",
       "      <th>nb_bugs</th>\n",
       "      <th>failures</th>\n",
       "      <th>nb_failures</th>\n",
       "    </tr>\n",
       "  </thead>\n",
       "  <tbody>\n",
       "  </tbody>\n",
       "</table>\n",
       "</div>"
      ],
      "text/plain": [
       "Empty DataFrame\n",
       "Columns: [cfg, bugs, nb_bugs, failures, nb_failures]\n",
       "Index: []"
      ]
     },
     "execution_count": 19,
     "metadata": {},
     "output_type": "execute_result"
    }
   ],
   "source": [
    "df_bugs.sort_values(by=\"nb_bugs\")"
   ]
  },
  {
   "cell_type": "code",
   "execution_count": 20,
   "metadata": {},
   "outputs": [
    {
     "data": {
      "text/html": [
       "<div>\n",
       "<style scoped>\n",
       "    .dataframe tbody tr th:only-of-type {\n",
       "        vertical-align: middle;\n",
       "    }\n",
       "\n",
       "    .dataframe tbody tr th {\n",
       "        vertical-align: top;\n",
       "    }\n",
       "\n",
       "    .dataframe thead th {\n",
       "        text-align: right;\n",
       "    }\n",
       "</style>\n",
       "<table border=\"1\" class=\"dataframe\">\n",
       "  <thead>\n",
       "    <tr style=\"text-align: right;\">\n",
       "      <th></th>\n",
       "      <th>cfg</th>\n",
       "      <th>bugs</th>\n",
       "      <th>nb_bugs</th>\n",
       "      <th>failures</th>\n",
       "      <th>nb_failures</th>\n",
       "    </tr>\n",
       "  </thead>\n",
       "  <tbody>\n",
       "  </tbody>\n",
       "</table>\n",
       "</div>"
      ],
      "text/plain": [
       "Empty DataFrame\n",
       "Columns: [cfg, bugs, nb_bugs, failures, nb_failures]\n",
       "Index: []"
      ]
     },
     "execution_count": 20,
     "metadata": {},
     "output_type": "execute_result"
    }
   ],
   "source": [
    "df_bugs.query(\"nb_bugs == 1\").sort_values(by=\"nb_bugs\")"
   ]
  },
  {
   "cell_type": "code",
   "execution_count": 21,
   "metadata": {
    "scrolled": false
   },
   "outputs": [
    {
     "data": {
      "text/plain": [
       "0"
      ]
     },
     "execution_count": 21,
     "metadata": {},
     "output_type": "execute_result"
    }
   ],
   "source": [
    "major = 0\n",
    "for i, cf_bug in df_bugs.query(\"nb_bugs >= 1\").iterrows():\n",
    "    failures = cf_bug['failures']\n",
    "    if (not failures):\n",
    "        # print(i, cf_bug['bugs'])\n",
    "        bug = cf_bug['bugs']\n",
    "        if not (bug == ['NON_MAJOR_BUG']):\n",
    "            major = major + 1\n",
    "            print(i, bug, df.loc[i]['Log.Build'])\n",
    "\n",
    "major"
   ]
  },
  {
   "cell_type": "code",
   "execution_count": 22,
   "metadata": {},
   "outputs": [
    {
     "data": {
      "text/plain": [
       "JHipsterRegister                                              jhipster251\n",
       "Docker                                                               True\n",
       "applicationType                                                \"monolith\"\n",
       "authenticationType                                                  \"jwt\"\n",
       "hibernateCache                                                       \"no\"\n",
       "clusteredHttpSession                                          \"hazelcast\"\n",
       "websocket                                                            \"no\"\n",
       "databaseType                                                    \"mongodb\"\n",
       "devDatabaseType                                                 \"mongodb\"\n",
       "prodDatabaseType                                                \"mongodb\"\n",
       "buildTool                                                        \"gradle\"\n",
       "searchEngine                                                         \"no\"\n",
       "enableSocialSignIn                                                   true\n",
       "useSass                                                              true\n",
       "enableTranslation                                                   False\n",
       "testFrameworks                        [\"protractor\",\"cucumber\",\"gatling\"]\n",
       "Generate                                                               OK\n",
       "Log-Generate            Exception.java\\n\\nExceptionHandlingAsyncTaskEx...\n",
       "Compile                                                                KO\n",
       "Log-Compile                                                           NaN\n",
       "Build                                                                  KO\n",
       "Log-Build                                                              ND\n",
       "Name: 500, dtype: object"
      ]
     },
     "execution_count": 22,
     "metadata": {},
     "output_type": "execute_result"
    }
   ],
   "source": [
    "# df.loc[24291]['Log-Generate']\n",
    "df.loc[500]"
   ]
  },
  {
   "cell_type": "code",
   "execution_count": 23,
   "metadata": {},
   "outputs": [
    {
     "data": {
      "text/html": [
       "<div>\n",
       "<style scoped>\n",
       "    .dataframe tbody tr th:only-of-type {\n",
       "        vertical-align: middle;\n",
       "    }\n",
       "\n",
       "    .dataframe tbody tr th {\n",
       "        vertical-align: top;\n",
       "    }\n",
       "\n",
       "    .dataframe thead th {\n",
       "        text-align: right;\n",
       "    }\n",
       "</style>\n",
       "<table border=\"1\" class=\"dataframe\">\n",
       "  <thead>\n",
       "    <tr style=\"text-align: right;\">\n",
       "      <th></th>\n",
       "    </tr>\n",
       "  </thead>\n",
       "  <tbody>\n",
       "  </tbody>\n",
       "</table>\n",
       "</div>"
      ],
      "text/plain": [
       "Empty DataFrame\n",
       "Columns: []\n",
       "Index: []"
      ]
     },
     "execution_count": 23,
     "metadata": {},
     "output_type": "execute_result"
    },
    {
     "data": {
      "image/png": "[encoded data removed]",
      "text/plain": [
       "<Figure size 432x288 with 1 Axes>"
      ]
     },
     "metadata": {
      "needs_background": "light"
     },
     "output_type": "display_data"
    }
   ],
   "source": [
    "df_bugs[\"nb_bugs\"].hist()\n",
    "v = ['NON_MAJOR_BUG']\n",
    "pd.DataFrame([bug for i, bug in df_bugs.iterrows() if bug['bugs'] == v])"
   ]
  },
  {
   "cell_type": "code",
   "execution_count": null,
   "metadata": {},
   "outputs": [],
   "source": [
    "# TODO: confront \"human\" annotated bug with our automated analysis \n",
    "df['Bug'].unique()\n"
   ]
  },
  {
   "cell_type": "code",
   "execution_count": null,
   "metadata": {},
   "outputs": [],
   "source": [
    "df.columns\n",
    "df.drop(columns=['Compile', 'Log.Build', 'Log.Compile', 'Log.Gen', 'Bug', 'Generate', 'JHipsterRegister', 'Unnamed: 0'])"
   ]
  },
  {
   "cell_type": "code",
   "execution_count": null,
   "metadata": {},
   "outputs": [],
   "source": [
    "df_encoded = df.apply(LabelEncoder().fit_transform)\n",
    "df_encoded"
   ]
  },
  {
   "cell_type": "code",
   "execution_count": null,
   "metadata": {},
   "outputs": [],
   "source": [
    "df.apply(LabelEncoder().fit_transform)[\"databaseType\"].unique()"
   ]
  },
  {
   "cell_type": "code",
   "execution_count": null,
   "metadata": {},
   "outputs": [],
   "source": [
    "df[\"databaseType\"].unique()"
   ]
  },
  {
   "cell_type": "code",
   "execution_count": null,
   "metadata": {},
   "outputs": [],
   "source": [
    "df"
   ]
  },
  {
   "cell_type": "code",
   "execution_count": null,
   "metadata": {},
   "outputs": [],
   "source": [
    "X = df_encoded.drop(columns=[\"Build\"])\n",
    "y = df_encoded[\"Build\"]"
   ]
  },
  {
   "cell_type": "code",
   "execution_count": null,
   "metadata": {},
   "outputs": [],
   "source": [
    "test_size=0.9\n",
    "X_train, X_test, y_train, y_test = train_test_split(X, y, test_size=test_size)\n",
    "\n",
    "clf = RandomForestClassifier(max_depth=15, min_samples_split=10, n_estimators=100)\n",
    "clf.fit(X_train, y_train)\n",
    "accuracy_score(y_test, clf.predict(X_test))"
   ]
  },
  {
   "cell_type": "code",
   "execution_count": null,
   "metadata": {},
   "outputs": [],
   "source": [
    "test_size=0.5\n",
    "X_train, X_test, y_train, y_test = train_test_split(X, y, test_size=test_size)\n",
    "clf = RandomForestClassifier(max_depth=20, min_samples_split=10, n_estimators=100)\n",
    "clf.fit(X_train, y_train)\n",
    "accuracy_score(y_test, clf.predict(X_test))"
   ]
  },
  {
   "cell_type": "code",
   "execution_count": null,
   "metadata": {},
   "outputs": [],
   "source": [
    "test_size=0.1\n",
    "X_train, X_test, y_train, y_test = train_test_split(X, y, test_size=test_size)\n",
    "clf = RandomForestClassifier(max_depth=25, min_samples_split=10, n_estimators=100)\n",
    "clf.fit(X_train, y_train)\n",
    "accuracy_score(y_test, clf.predict(X_test))"
   ]
  },
  {
   "cell_type": "code",
   "execution_count": null,
   "metadata": {},
   "outputs": [],
   "source": [
    "test_size=0.1\n",
    "X_train, X_test, y_train, y_test = train_test_split(X, y, test_size=test_size)\n",
    "clf = DecisionTreeClassifier(max_depth=3)\n",
    "clf.fit(X_train, y_train)\n",
    "accuracy_score(y_test, clf.predict(X_test))"
   ]
  },
  {
   "cell_type": "code",
   "execution_count": null,
   "metadata": {},
   "outputs": [],
   "source": [
    "clf"
   ]
  },
  {
   "cell_type": "code",
   "execution_count": null,
   "metadata": {},
   "outputs": [],
   "source": [
    "plot_tree(clf, feature_names=X.columns) "
   ]
  },
  {
   "cell_type": "code",
   "execution_count": null,
   "metadata": {
    "scrolled": false
   },
   "outputs": [],
   "source": [
    "from graphviz import Source\n",
    "from IPython.display import SVG\n",
    "graph = Source( export_graphviz(clf, out_file=None, feature_names=X.columns))\n",
    "SVG(graph.pipe(format='svg'))"
   ]
  },
  {
   "cell_type": "code",
   "execution_count": null,
   "metadata": {},
   "outputs": [],
   "source": [
    "graph = Source( export_graphviz(clf, out_file=None, feature_names=X.columns))\n",
    "graph.format = 'pdf'\n",
    "graph.render('dtree_render', view=True)"
   ]
  },
  {
   "cell_type": "code",
   "execution_count": null,
   "metadata": {},
   "outputs": [],
   "source": [
    "import numpy as np\n",
    "import matplotlib.pyplot as plt\n",
    "\n",
    "# https://chrisalbon.com/machine_learning/trees_and_forests/feature_importance/\n",
    "\n",
    "importances = clf.feature_importances_\n",
    "# Sort feature importances in descending order\n",
    "indices = np.argsort(importances)[::-1]\n",
    "# Rearrange feature names so they match the sorted feature importances\n",
    "names = [X.columns[i] for i in indices]\n",
    "\n",
    "# Create plot\n",
    "plt.figure()\n",
    "# Create plot title\n",
    "plt.title(\"Feature Importance\")\n",
    "# Add bars\n",
    "plt.bar(range(X.shape[1]), importances[indices])\n",
    "# Add feature names as x-axis labels\n",
    "plt.xticks(range(X.shape[1]), names, rotation=90)\n",
    "# Show plot\n",
    "plt.show()"
   ]
  },
  {
   "cell_type": "code",
   "execution_count": null,
   "metadata": {},
   "outputs": [],
   "source": [
    "df.query('databaseType == `\"sql\"`') # seems not working... prefer the old school solution: df[df[\"prodDatabaseType\"] == '\"mariadb\"'] "
   ]
  },
  {
   "cell_type": "code",
   "execution_count": null,
   "metadata": {},
   "outputs": [],
   "source": [
    "df['prodDatabaseType'].unique()"
   ]
  },
  {
   "cell_type": "code",
   "execution_count": null,
   "metadata": {},
   "outputs": [],
   "source": [
    "import random \n",
    "\n",
    "def rand_freq():\n",
    "    r1 = random.randrange(0, 10, 1)\n",
    "    r2 = random.randrange(0, 10, 1)\n",
    "    return r1 == 0 and r2 == 0\n",
    "\n",
    "x = [rand_freq() for i in range(0, 10000)]\n",
    "unique, counts = np.unique(x, return_counts=True)\n",
    "\n",
    "np.asarray((unique, counts)).T"
   ]
  },
  {
   "cell_type": "code",
   "execution_count": null,
   "metadata": {},
   "outputs": [],
   "source": [
    "df2 = pd.read_csv('jhipster3.6.1-testresults.csv')"
   ]
  },
  {
   "cell_type": "code",
   "execution_count": null,
   "metadata": {},
   "outputs": [],
   "source": [
    "# len(df2.query(\"Docker == True & authenticationType == 'uaa' & Build == 'KO'\")) / NB_CONFIGURATIONS_JH"
   ]
  },
  {
   "cell_type": "code",
   "execution_count": null,
   "metadata": {},
   "outputs": [],
   "source": [
    "df2.head()"
   ]
  },
  {
   "cell_type": "code",
   "execution_count": null,
   "metadata": {},
   "outputs": [],
   "source": [
    "df2.query(\"Docker == True & authenticationType == 'uaa' & Build == 'KO'\")"
   ]
  },
  {
   "cell_type": "code",
   "execution_count": null,
   "metadata": {},
   "outputs": [],
   "source": [
    "import pandas as pd\n",
    "import numpy as np\n",
    "from sklearn.cluster import MiniBatchKMeans\n",
    "from sklearn.feature_extraction.text import TfidfVectorizer\n",
    "from sklearn.decomposition import PCA\n",
    "import matplotlib.pyplot as plt"
   ]
  },
  {
   "cell_type": "code",
   "execution_count": null,
   "metadata": {},
   "outputs": [],
   "source": [
    "vec = TfidfVectorizer(stop_words=\"english\")\n",
    "failures_vals = [v for v in df['Log-Build'].values if not v is np.nan]\n",
    "vec.fit(failures_vals)\n",
    "features = vec.transform(failures_vals)"
   ]
  },
  {
   "cell_type": "code",
   "execution_count": null,
   "metadata": {},
   "outputs": [],
   "source": [
    "features"
   ]
  },
  {
   "cell_type": "code",
   "execution_count": null,
   "metadata": {},
   "outputs": [],
   "source": [
    "cls = MiniBatchKMeans(n_clusters=5, random_state=0)\n",
    "cls.fit(features)"
   ]
  },
  {
   "cell_type": "code",
   "execution_count": null,
   "metadata": {},
   "outputs": [],
   "source": [
    "# predict cluster labels for new dataset\n",
    "cls.predict(features)\n",
    "\n",
    "# to get cluster labels for the dataset used while\n",
    "# training the model (used for models that does not\n",
    "# support prediction on new dataset).\n",
    "cls.labels_"
   ]
  },
  {
   "cell_type": "code",
   "execution_count": null,
   "metadata": {},
   "outputs": [],
   "source": [
    "import string\n",
    "import collections\n",
    " \n",
    "from nltk import word_tokenize\n",
    "from nltk.stem import PorterStemmer\n",
    "from nltk.corpus import stopwords\n",
    "from sklearn.cluster import KMeans\n",
    "from sklearn.feature_extraction.text import TfidfVectorizer\n",
    "from pprint import pprint\n",
    " \n",
    "def process_text(text, stem=True):\n",
    "    \"\"\" Tokenize text and stem words removing punctuation \"\"\"\n",
    "    # text = text.translate(None, string.punctuation)\n",
    "    tokens = word_tokenize(text)\n",
    " \n",
    "    if stem:\n",
    "        stemmer = PorterStemmer()\n",
    "        tokens = [stemmer.stem(t) for t in tokens]\n",
    "    return tokens \n",
    "\n",
    " \n",
    "def cluster_texts(texts, clusters=3):\n",
    "    \"\"\" Transform texts to Tf-Idf coordinates and cluster texts using K-Means \"\"\"\n",
    "    vectorizer = TfidfVectorizer(tokenizer=process_text,\n",
    "                                 stop_words=stopwords.words('english'),\n",
    "                                 max_df=0.5,\n",
    "                                 min_df=0.1,\n",
    "                                 lowercase=True)\n",
    " \n",
    "    tfidf_model = vectorizer.fit_transform(texts)\n",
    "    km_model = KMeans(n_clusters=clusters)\n",
    "    km_model.fit(tfidf_model)\n",
    " \n",
    "    clustering = collections.defaultdict(list)\n",
    " \n",
    "    for idx, label in enumerate(km_model.labels_):\n",
    "        clustering[label].append(idx)\n",
    " \n",
    "    return clustering\n",
    "\n",
    "\n",
    "\n",
    "clusters = cluster_texts(failures_vals, 10)\n",
    "\n",
    " "
   ]
  },
  {
   "cell_type": "code",
   "execution_count": null,
   "metadata": {},
   "outputs": [],
   "source": [
    "import nltk\n",
    "nltk.download('stopwords')\n",
    "nltk.download('punkt')"
   ]
  },
  {
   "cell_type": "code",
   "execution_count": null,
   "metadata": {},
   "outputs": [],
   "source": [
    "pd.DataFrame(failures_vals[:1000])\n",
    "# failures_vals[499]"
   ]
  },
  {
   "cell_type": "code",
   "execution_count": null,
   "metadata": {},
   "outputs": [],
   "source": [
    "dclusters = dict(clusters)\n",
    "found_clusters = pd.DataFrame(columns=['cluster_id', 'nbfailures', 'representative'])\n",
    "for i in dclusters:\n",
    "    found_clusters.loc[i] = (i, len(dclusters[i]), failures_vals[dclusters[i][0]])"
   ]
  },
  {
   "cell_type": "code",
   "execution_count": null,
   "metadata": {},
   "outputs": [],
   "source": [
    "for c, cluster_failure in found_clusters.iterrows():\n",
    "    print(cluster_failure['representative'])"
   ]
  },
  {
   "cell_type": "code",
   "execution_count": null,
   "metadata": {},
   "outputs": [],
   "source": [
    "with pd.option_context('display.max_rows', None, 'display.max_columns', None):  # more options can be specified also\n",
    "    print(found_clusters)"
   ]
  },
  {
   "cell_type": "code",
   "execution_count": null,
   "metadata": {},
   "outputs": [],
   "source": [
    "from IPython.core.display import HTML\n",
    "pd.set_option('display.max_colwidth', -1)\n",
    "display(HTML(found_clusters.to_html()))\n"
   ]
  },
  {
   "cell_type": "code",
   "execution_count": null,
   "metadata": {},
   "outputs": [],
   "source": []
  },
  {
   "cell_type": "code",
   "execution_count": null,
   "metadata": {},
   "outputs": [],
   "source": []
  },
  {
   "cell_type": "code",
   "execution_count": null,
   "metadata": {},
   "outputs": [],
   "source": []
  },
  {
   "cell_type": "code",
   "execution_count": null,
   "metadata": {},
   "outputs": [],
   "source": []
  }
 ],
 "metadata": {
  "kernelspec": {
   "display_name": "Python 3",
   "language": "python",
   "name": "python3"
  },
  "language_info": {
   "codemirror_mode": {
    "name": "ipython",
    "version": 3
   },
   "file_extension": ".py",
   "mimetype": "text/x-python",
   "name": "python",
   "nbconvert_exporter": "python",
   "pygments_lexer": "ipython3",
   "version": "3.7.6"
  }
 },
 "nbformat": 4,
 "nbformat_minor": 2
}
